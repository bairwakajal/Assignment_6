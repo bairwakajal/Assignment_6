{
 "cells": [
  {
   "cell_type": "markdown",
   "id": "189d37e0-0d93-4cdc-970b-73dbd0541a28",
   "metadata": {},
   "source": [
    "# Objective:\n",
    "1. Train multiple Machine Learning models.\n",
    "\n",
    "2. Evaluate their performance using accuracy, precision, recall, F1-score.\n",
    "\n",
    "3. Implement GridSearchCV and RandomizedSearchCV for hyperparameter tuning.\n",
    "\n",
    "4. Analyze and select the best-performing model.\n",
    "\n"
   ]
  },
  {
   "cell_type": "code",
   "execution_count": 1,
   "id": "5f631ddf-d279-4150-aa83-844c9033e250",
   "metadata": {},
   "outputs": [],
   "source": [
    "# Required Python Libraries:\n",
    "import numpy as np\n",
    "import pandas as pd\n",
    "\n",
    "from sklearn.model_selection import train_test_split, GridSearchCV, RandomizedSearchCV\n",
    "from sklearn.metrics import accuracy_score, precision_score, recall_score, f1_score, confusion_matrix, classification_report\n",
    "\n",
    "from sklearn.linear_model import LogisticRegression\n",
    "from sklearn.ensemble import RandomForestClassifier\n",
    "from sklearn.svm import SVC\n",
    "\n",
    "from sklearn.datasets import load_iris  # Example dataset\n",
    "\n",
    "import warnings\n",
    "warnings.filterwarnings('ignore')\n"
   ]
  },
  {
   "cell_type": "markdown",
   "id": "455e48b5-cdb0-4c35-be4a-c1b7c9dcdac8",
   "metadata": {},
   "source": [
    "# Dataset:\n",
    "For demonstration, we will use the Iris dataset (a multiclass classification problem). You can replace it with your own dataset."
   ]
  },
  {
   "cell_type": "code",
   "execution_count": 2,
   "id": "8820965a-4b2a-4b25-9dca-9b1c2eb38404",
   "metadata": {},
   "outputs": [],
   "source": [
    "# Load the dataset\n",
    "data = load_iris()\n",
    "X = data.data\n",
    "y = data.target\n",
    "\n",
    "# Split the dataset into training and testing sets\n",
    "X_train, X_test, y_train, y_test = train_test_split(X, y, test_size=0.2, random_state=42)\n"
   ]
  },
  {
   "cell_type": "markdown",
   "id": "712c13bb-08d7-4a26-b308-79239e67a3fe",
   "metadata": {},
   "source": [
    "# Model Training and Evaluation\n",
    "We will train the following models:\n",
    "\n",
    "1. Logistic Regression\n",
    "\n",
    "2. Random Forest Classifier\n",
    "\n",
    "3. Support Vector Classifier (SVC)\n",
    "\n",
    "# Define a Model Evaluation Function\n",
    "This function will calculate accuracy, precision, recall, and F1-score for each model.\n"
   ]
  },
  {
   "cell_type": "code",
   "execution_count": 3,
   "id": "492cc3c4-2752-4d03-bea0-6916173d4396",
   "metadata": {},
   "outputs": [],
   "source": [
    "def evaluate_model(model, X_test, y_test):\n",
    "    y_pred = model.predict(X_test)\n",
    "    \n",
    "    accuracy = accuracy_score(y_test, y_pred)\n",
    "    precision = precision_score(y_test, y_pred, average='weighted')\n",
    "    recall = recall_score(y_test, y_pred, average='weighted')\n",
    "    f1 = f1_score(y_test, y_pred, average='weighted')\n",
    "    \n",
    "    print(\"Confusion Matrix:\\n\", confusion_matrix(y_test, y_pred))\n",
    "    print(\"Classification Report:\\n\", classification_report(y_test, y_pred))\n",
    "    \n",
    "    return accuracy, precision, recall, f1\n"
   ]
  },
  {
   "cell_type": "code",
   "execution_count": 4,
   "id": "fc0008e5-cef4-45cb-af6e-376dec36345e",
   "metadata": {},
   "outputs": [
    {
     "name": "stdout",
     "output_type": "stream",
     "text": [
      "Confusion Matrix:\n",
      " [[10  0  0]\n",
      " [ 0  9  0]\n",
      " [ 0  0 11]]\n",
      "Classification Report:\n",
      "               precision    recall  f1-score   support\n",
      "\n",
      "           0       1.00      1.00      1.00        10\n",
      "           1       1.00      1.00      1.00         9\n",
      "           2       1.00      1.00      1.00        11\n",
      "\n",
      "    accuracy                           1.00        30\n",
      "   macro avg       1.00      1.00      1.00        30\n",
      "weighted avg       1.00      1.00      1.00        30\n",
      "\n",
      "Logistic Regression - Accuracy, Precision, Recall, F1: (1.0, 1.0, 1.0, 1.0)\n"
     ]
    }
   ],
   "source": [
    "# Model 1: Logistic Regression\n",
    "# Create and train Logistic Regression model\n",
    "lr_model = LogisticRegression()\n",
    "lr_model.fit(X_train, y_train)\n",
    "\n",
    "# Evaluate the model\n",
    "lr_metrics = evaluate_model(lr_model, X_test, y_test)\n",
    "print(\"Logistic Regression - Accuracy, Precision, Recall, F1:\", lr_metrics)\n"
   ]
  },
  {
   "cell_type": "code",
   "execution_count": 5,
   "id": "513ba302-fdee-445e-90e6-d9e9de62ae3e",
   "metadata": {},
   "outputs": [
    {
     "name": "stdout",
     "output_type": "stream",
     "text": [
      "Confusion Matrix:\n",
      " [[10  0  0]\n",
      " [ 0  9  0]\n",
      " [ 0  0 11]]\n",
      "Classification Report:\n",
      "               precision    recall  f1-score   support\n",
      "\n",
      "           0       1.00      1.00      1.00        10\n",
      "           1       1.00      1.00      1.00         9\n",
      "           2       1.00      1.00      1.00        11\n",
      "\n",
      "    accuracy                           1.00        30\n",
      "   macro avg       1.00      1.00      1.00        30\n",
      "weighted avg       1.00      1.00      1.00        30\n",
      "\n",
      "Random Forest - Accuracy, Precision, Recall, F1: (1.0, 1.0, 1.0, 1.0)\n"
     ]
    }
   ],
   "source": [
    "# Model 2: Random Forest Classifier\n",
    "# Create and train Random Forest model\n",
    "rf_model = RandomForestClassifier()\n",
    "rf_model.fit(X_train, y_train)\n",
    "\n",
    "# Evaluate the model\n",
    "rf_metrics = evaluate_model(rf_model, X_test, y_test)\n",
    "print(\"Random Forest - Accuracy, Precision, Recall, F1:\", rf_metrics)"
   ]
  },
  {
   "cell_type": "code",
   "execution_count": 6,
   "id": "0b32dc32-cbd4-469e-91f5-1937f9c9bbbb",
   "metadata": {},
   "outputs": [
    {
     "name": "stdout",
     "output_type": "stream",
     "text": [
      "Confusion Matrix:\n",
      " [[10  0  0]\n",
      " [ 0  9  0]\n",
      " [ 0  0 11]]\n",
      "Classification Report:\n",
      "               precision    recall  f1-score   support\n",
      "\n",
      "           0       1.00      1.00      1.00        10\n",
      "           1       1.00      1.00      1.00         9\n",
      "           2       1.00      1.00      1.00        11\n",
      "\n",
      "    accuracy                           1.00        30\n",
      "   macro avg       1.00      1.00      1.00        30\n",
      "weighted avg       1.00      1.00      1.00        30\n",
      "\n",
      "SVC - Accuracy, Precision, Recall, F1: (1.0, 1.0, 1.0, 1.0)\n"
     ]
    }
   ],
   "source": [
    "# Model 3: Support Vector Classifier (SVC)\n",
    "# Create and train SVC model\n",
    "svc_model = SVC()\n",
    "svc_model.fit(X_train, y_train)\n",
    "\n",
    "# Evaluate the model\n",
    "svc_metrics = evaluate_model(svc_model, X_test, y_test)\n",
    "print(\"SVC - Accuracy, Precision, Recall, F1:\", svc_metrics)"
   ]
  },
  {
   "cell_type": "markdown",
   "id": "279171bf-af3e-4a74-80f8-1722708ee26e",
   "metadata": {},
   "source": [
    "# Hyperparameter Tuning\n",
    "Now, we will tune the models using GridSearchCV and RandomizedSearchCV.\n",
    "\n",
    "# GridSearchCV — for Random Forest\n",
    "This method tries every possible combination of parameters you provide and finds the best one."
   ]
  },
  {
   "cell_type": "code",
   "execution_count": 7,
   "id": "aede32da-cbf0-4d60-86a7-ef1d5ffe040a",
   "metadata": {},
   "outputs": [
    {
     "name": "stdout",
     "output_type": "stream",
     "text": [
      "Best Parameters from GridSearchCV: {'max_depth': 2, 'min_samples_split': 2, 'n_estimators': 150}\n"
     ]
    }
   ],
   "source": [
    "# Define parameter grid for Random Forest\n",
    "param_grid = {\n",
    "    'n_estimators': [50, 100, 150],\n",
    "    'max_depth': [2, 4, 6, None],\n",
    "    'min_samples_split': [2, 5, 10]\n",
    "}\n",
    "\n",
    "# Apply GridSearchCV\n",
    "grid_search = GridSearchCV(RandomForestClassifier(), param_grid, cv=3, scoring='accuracy')\n",
    "grid_search.fit(X_train, y_train)\n",
    "\n",
    "# Show the best parameters\n",
    "print(\"Best Parameters from GridSearchCV:\", grid_search.best_params_)\n"
   ]
  },
  {
   "cell_type": "markdown",
   "id": "29d29d9b-a790-443e-a31e-188caaa4a9a8",
   "metadata": {},
   "source": [
    "# RandomizedSearchCV — for SVC\n",
    " This method randomly selects combinations of parameters and tests them, which is faster for large ranges."
   ]
  },
  {
   "cell_type": "code",
   "execution_count": 8,
   "id": "b46be254-f964-4055-9fce-293f188169f1",
   "metadata": {},
   "outputs": [
    {
     "name": "stdout",
     "output_type": "stream",
     "text": [
      "Best Parameters from RandomizedSearchCV: {'kernel': 'linear', 'gamma': 1, 'C': 1}\n"
     ]
    }
   ],
   "source": [
    "# Define parameter distribution for SVC\n",
    "param_dist = {\n",
    "    'C': [0.1, 1, 10, 100],\n",
    "    'gamma': [1, 0.1, 0.01, 0.001],\n",
    "    'kernel': ['linear', 'rbf']\n",
    "}\n",
    "\n",
    "# Apply RandomizedSearchCV\n",
    "random_search = RandomizedSearchCV(SVC(), param_distributions=param_dist, n_iter=10, cv=3, scoring='accuracy', random_state=42)\n",
    "random_search.fit(X_train, y_train)\n",
    "\n",
    "# Show the best parameters\n",
    "print(\"Best Parameters from RandomizedSearchCV:\", random_search.best_params_)\n"
   ]
  },
  {
   "cell_type": "code",
   "execution_count": 9,
   "id": "1e026d5a-7d85-4239-ba34-379124e13f13",
   "metadata": {},
   "outputs": [
    {
     "name": "stdout",
     "output_type": "stream",
     "text": [
      "Confusion Matrix:\n",
      " [[10  0  0]\n",
      " [ 0  9  0]\n",
      " [ 0  0 11]]\n",
      "Classification Report:\n",
      "               precision    recall  f1-score   support\n",
      "\n",
      "           0       1.00      1.00      1.00        10\n",
      "           1       1.00      1.00      1.00         9\n",
      "           2       1.00      1.00      1.00        11\n",
      "\n",
      "    accuracy                           1.00        30\n",
      "   macro avg       1.00      1.00      1.00        30\n",
      "weighted avg       1.00      1.00      1.00        30\n",
      "\n",
      "Tuned Random Forest - Accuracy, Precision, Recall, F1: (1.0, 1.0, 1.0, 1.0)\n"
     ]
    }
   ],
   "source": [
    "# Tuned Random Forest\n",
    "# Use the best estimator from GridSearchCV\n",
    "best_rf = grid_search.best_estimator_\n",
    "\n",
    "# Evaluate the tuned Random Forest\n",
    "rf_tuned_metrics = evaluate_model(best_rf, X_test, y_test)\n",
    "print(\"Tuned Random Forest - Accuracy, Precision, Recall, F1:\", rf_tuned_metrics)\n"
   ]
  },
  {
   "cell_type": "code",
   "execution_count": 10,
   "id": "e02a1bef-26b9-4916-b5f8-534533fb20c3",
   "metadata": {},
   "outputs": [
    {
     "name": "stdout",
     "output_type": "stream",
     "text": [
      "Confusion Matrix:\n",
      " [[10  0  0]\n",
      " [ 0  9  0]\n",
      " [ 0  0 11]]\n",
      "Classification Report:\n",
      "               precision    recall  f1-score   support\n",
      "\n",
      "           0       1.00      1.00      1.00        10\n",
      "           1       1.00      1.00      1.00         9\n",
      "           2       1.00      1.00      1.00        11\n",
      "\n",
      "    accuracy                           1.00        30\n",
      "   macro avg       1.00      1.00      1.00        30\n",
      "weighted avg       1.00      1.00      1.00        30\n",
      "\n",
      "Tuned SVC - Accuracy, Precision, Recall, F1: (1.0, 1.0, 1.0, 1.0)\n"
     ]
    }
   ],
   "source": [
    "# Tuned SVC\n",
    "# Use the best estimator from RandomizedSearchCV\n",
    "best_svc = random_search.best_estimator_\n",
    "\n",
    "# Evaluate the tuned SVC\n",
    "svc_tuned_metrics = evaluate_model(best_svc, X_test, y_test)\n",
    "print(\"Tuned SVC - Accuracy, Precision, Recall, F1:\", svc_tuned_metrics)"
   ]
  },
  {
   "cell_type": "markdown",
   "id": "2e6f9b4b-659f-4a05-b6dd-92aa4e3ab2e8",
   "metadata": {},
   "source": []
  },
  {
   "cell_type": "code",
   "execution_count": null,
   "id": "64294d3f-853b-43a9-b38e-89a111e4f3a8",
   "metadata": {},
   "outputs": [],
   "source": []
  },
  {
   "cell_type": "code",
   "execution_count": null,
   "id": "339699fa-32ad-4542-b2fa-7cd43492b9cd",
   "metadata": {},
   "outputs": [],
   "source": []
  }
 ],
 "metadata": {
  "kernelspec": {
   "display_name": "Python 3 (ipykernel)",
   "language": "python",
   "name": "python3"
  },
  "language_info": {
   "codemirror_mode": {
    "name": "ipython",
    "version": 3
   },
   "file_extension": ".py",
   "mimetype": "text/x-python",
   "name": "python",
   "nbconvert_exporter": "python",
   "pygments_lexer": "ipython3",
   "version": "3.12.7"
  }
 },
 "nbformat": 4,
 "nbformat_minor": 5
}
